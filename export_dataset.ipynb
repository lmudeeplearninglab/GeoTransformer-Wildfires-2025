{
  "cells": [
    {
      "cell_type": "markdown",
      "metadata": {},
      "source": [
        "This notebook authenticates EE, configures a small region/time window, triggers TFRecord exports using data_export.export_ee_data, and shows how to monitor and optionally download results."
      ]
    },
    {
      "cell_type": "code",
      "execution_count": 1,
      "metadata": {},
      "outputs": [],
      "source": [
        "import json\n",
        "from datetime import datetime\n",
        "from pathlib import Path    \n",
        "\n",
        "import ee\n",
        "# Optional for downloading TFRecords later:\n",
        "# from google.cloud import storage\n",
        "\n",
        "from data_export import export_ee_data, ee_utils"
      ]
    },
    {
      "cell_type": "code",
      "execution_count": 2,
      "metadata": {},
      "outputs": [],
      "source": [
        "try:\n",
        "    ee.Authenticate()\n",
        "except Exception as exc:\n",
        "    print(\"Auth skipped or already configured:\", exc)"
      ]
    },
    {
      "cell_type": "code",
      "execution_count": 3,
      "metadata": {},
      "outputs": [
        {
          "name": "stdout",
          "output_type": "stream",
          "text": [
            "Earth Engine initialized 2025-10-21 02:11:17.352662\n"
          ]
        }
      ],
      "source": [
        "ee.Initialize()\n",
        "print(\"Earth Engine initialized\", datetime.utcnow())"
      ]
    },
    {
      "cell_type": "code",
      "execution_count": 13,
      "metadata": {},
      "outputs": [
        {
          "name": "stdout",
          "output_type": "stream",
          "text": [
            "{\n",
            "  \"bucket\": \"lmudl-wildfire-compilation-bucket\",\n",
            "  \"folder\": \"eaton\",\n",
            "  \"prefix\": \"eaton_sample\",\n",
            "  \"start_date\": \"2025-01-07\",\n",
            "  \"end_date\": \"2025-01-30\",\n",
            "  \"kernel_size\": 64,\n",
            "  \"sampling_scale\": 1000,\n",
            "  \"eval_split_ratio\": 0.05,\n",
            "  \"num_samples_per_file\": 100,\n",
            "  \"region_bbox\": [\n",
            "    -118.19466979980469,\n",
            "    34.147511224015496,\n",
            "    -118.00034912109375,\n",
            "    34.24916929738899\n",
            "  ]\n",
            "}\n"
          ]
        }
      ],
      "source": [
        "params = {\n",
        "    \"bucket\": \"lmudl-wildfire-compilation-bucket\",     # e.g., \"my-bucket\"\n",
        "    \"folder\": \"eaton\",                 # subfolder inside bucket\n",
        "    \"prefix\": \"eaton_sample\",               # file prefix\n",
        "    \"start_date\": \"2025-01-07\",\n",
        "    \"end_date\": \"2025-01-30\",\n",
        "    \"kernel_size\": 64,\n",
        "    \"sampling_scale\": 1000,\n",
        "    \"eval_split_ratio\": 0.05,\n",
        "    \"num_samples_per_file\": 100,\n",
        "    \"region_bbox\": [-118.19466979980469, 34.147511224015496, -118.00034912109375, 34.24916929738899]\n",
        "}\n",
        "print(json.dumps(params, indent=2))"
      ]
    },
    {
      "cell_type": "code",
      "execution_count": 14,
      "metadata": {},
      "outputs": [],
      "source": [
        "def export_slice(config: dict):\n",
        "    required = [\"bucket\", \"folder\", \"prefix\", \"start_date\", \"end_date\"]\n",
        "    for key in required:\n",
        "        if not config.get(key):\n",
        "            raise ValueError(f\"Missing required parameter: {key}\")\n",
        "\n",
        "    bbox = config.get(\"region_bbox\") or ee_utils.COORDINATES[\"US\"]\n",
        "    # Override the default region used by export_ee_data\n",
        "    ee_utils.COORDINATES[\"US\"] = bbox\n",
        "\n",
        "    start_date = ee.Date(config[\"start_date\"])\n",
        "    end_date = ee.Date(config[\"end_date\"])\n",
        "\n",
        "    export_ee_data.export_ml_datasets(\n",
        "        bucket=config[\"bucket\"],\n",
        "        folder=config[\"folder\"],\n",
        "        start_date=start_date,\n",
        "        end_date=end_date,\n",
        "        prefix=config.get(\"prefix\", \"\"),\n",
        "        kernel_size=config.get(\"kernel_size\", ee_utils.DEFAULT_KERNEL_SIZE),\n",
        "        sampling_scale=config.get(\"sampling_scale\", ee_utils.DEFAULT_SAMPLING_RESOLUTION),\n",
        "        eval_split_ratio=config.get(\"eval_split_ratio\", ee_utils.DEFAULT_EVAL_SPLIT),\n",
        "        num_samples_per_file=config.get(\"num_samples_per_file\", ee_utils.DEFAULT_LIMIT_PER_EE_CALL),\n",
        "    )\n",
        "    print(\"Export triggered. Check https://code.earthengine.google.com/tasks for progress.\")"
      ]
    },
    {
      "cell_type": "code",
      "execution_count": 15,
      "metadata": {},
      "outputs": [
        {
          "name": "stdout",
          "output_type": "stream",
          "text": [
            "Export triggered. Check https://code.earthengine.google.com/tasks for progress.\n"
          ]
        }
      ],
      "source": [
        "export_slice(params)"
      ]
    },
    {
      "cell_type": "code",
      "execution_count": 16,
      "metadata": {},
      "outputs": [
        {
          "name": "stdout",
          "output_type": "stream",
          "text": [
            "BG57KCZQ353KV4PNMTVTHBF5 | READY | train_eaton_sample_019\n",
            "ESG6QWR6CROLNRHCDUNKLY73 | READY | train_eaton_sample_018\n",
            "ZD2XMAFN2UY5ELJHW6E56LXT | READY | train_eaton_sample_017\n",
            "FPHSSZ6AS3ST5ZXR4SHTYRTG | READY | train_eaton_sample_016\n",
            "LZEHF54QJUXWCV3APIBLWURT | READY | train_eaton_sample_015\n",
            "FL7V6GKHY7ICYQFXUC7AIZEK | READY | train_eaton_sample_014\n",
            "56XFX6N7D7M5RMRTO4ZBN5HC | READY | train_eaton_sample_013\n",
            "7NHRLBDKU5FOEQVKT5IZWTY5 | READY | train_eaton_sample_012\n",
            "GTRIK2KSODVOPKLT6JNLAITJ | READY | train_eaton_sample_011\n",
            "C5MC4BA5LQZD3RRXWVROTUAK | READY | train_eaton_sample_010\n"
          ]
        }
      ],
      "source": [
        "def list_tasks(limit: int = 10):\n",
        "    tasks = ee.batch.Task.list()\n",
        "    for task in tasks[:limit]:\n",
        "        status = task.status()\n",
        "        print(f\"{status['id']} | {status.get('state')} | {status.get('description')}\")\n",
        "\n",
        "list_tasks()"
      ]
    },
    {
      "cell_type": "code",
      "execution_count": 10,
      "metadata": {},
      "outputs": [],
      "source": [
        "from google.cloud import storage\n",
        "\n",
        "def download_exports(config: dict, destination: Path):\n",
        "    destination.mkdir(parents=True, exist_ok=True)\n",
        "    client = storage.Client()\n",
        "    bucket = client.bucket(config[\"bucket\"])\n",
        "\n",
        "    folder = str(config.get(\"folder\", \"\")).strip(\"/\")\n",
        "    gcs_prefix = (folder + \"/\") if folder else \"\"\n",
        "\n",
        "    blobs = list(bucket.list_blobs(prefix=gcs_prefix))\n",
        "\n",
        "    print(f\"Found {len(blobs)} files under gs://{config['bucket']}/{gcs_prefix}\")\n",
        "    for blob in blobs:\n",
        "        target = destination / Path(blob.name).name\n",
        "        print(\"Downloading\", blob.name, \"->\", target)\n",
        "        blob.download_to_filename(target)\n"
      ]
    },
    {
      "cell_type": "code",
      "execution_count": 11,
      "metadata": {},
      "outputs": [
        {
          "data": {
            "text/plain": [
              "['Your browser has been opened to visit:',\n",
              " '',\n",
              " '    https://accounts.google.com/o/oauth2/auth?response_type=code&client_id=764086051850-6qr4p6gpi6hn506pt8ejuq83di341hur.apps.googleusercontent.com&redirect_uri=http%3A%2F%2Flocalhost%3A8085%2F&scope=openid+https%3A%2F%2Fwww.googleapis.com%2Fauth%2Fuserinfo.email+https%3A%2F%2Fwww.googleapis.com%2Fauth%2Fcloud-platform+https%3A%2F%2Fwww.googleapis.com%2Fauth%2Fsqlservice.login&state=nAplcergvJ8wFrvo4haT1kSyBn5kLM&access_type=offline&code_challenge=-EQQxIhZD_QX21qNRI7INsjQPCBhapIJj1E3oLN4mYw&code_challenge_method=S256',\n",
              " '',\n",
              " '',\n",
              " 'Credentials saved to file: [C:\\\\Users\\\\Arye\\\\AppData\\\\Roaming\\\\gcloud\\\\application_default_credentials.json]',\n",
              " '',\n",
              " 'These credentials will be used by any library that requests Application Default Credentials (ADC).',\n",
              " '',\n",
              " 'Quota project \"ee-lmu-deep-learning-wildfire\" was added to ADC which can be used by Google client libraries for billing and quota. Note that some services may still bill the project owning the resource.']"
            ]
          },
          "execution_count": 11,
          "metadata": {},
          "output_type": "execute_result"
        }
      ],
      "source": [
        "%%!\n",
        "gcloud auth application-default login"
      ]
    },
    {
      "cell_type": "code",
      "execution_count": 17,
      "metadata": {},
      "outputs": [
        {
          "name": "stdout",
          "output_type": "stream",
          "text": [
            "Found 20 files under gs://lmudl-wildfire-compilation-bucket/eaton/\n",
            "Downloading eaton/train_eaton_sample_000.tfrecord.gz -> exports\\train_eaton_sample_000.tfrecord.gz\n",
            "Downloading eaton/train_eaton_sample_001.tfrecord.gz -> exports\\train_eaton_sample_001.tfrecord.gz\n",
            "Downloading eaton/train_eaton_sample_002.tfrecord.gz -> exports\\train_eaton_sample_002.tfrecord.gz\n",
            "Downloading eaton/train_eaton_sample_003.tfrecord.gz -> exports\\train_eaton_sample_003.tfrecord.gz\n",
            "Downloading eaton/train_eaton_sample_004.tfrecord.gz -> exports\\train_eaton_sample_004.tfrecord.gz\n",
            "Downloading eaton/train_eaton_sample_005.tfrecord.gz -> exports\\train_eaton_sample_005.tfrecord.gz\n",
            "Downloading eaton/train_eaton_sample_006.tfrecord.gz -> exports\\train_eaton_sample_006.tfrecord.gz\n",
            "Downloading eaton/train_eaton_sample_007.tfrecord.gz -> exports\\train_eaton_sample_007.tfrecord.gz\n",
            "Downloading eaton/train_eaton_sample_008.tfrecord.gz -> exports\\train_eaton_sample_008.tfrecord.gz\n",
            "Downloading eaton/train_eaton_sample_009.tfrecord.gz -> exports\\train_eaton_sample_009.tfrecord.gz\n",
            "Downloading eaton/train_eaton_sample_010.tfrecord.gz -> exports\\train_eaton_sample_010.tfrecord.gz\n",
            "Downloading eaton/train_eaton_sample_011.tfrecord.gz -> exports\\train_eaton_sample_011.tfrecord.gz\n",
            "Downloading eaton/train_eaton_sample_012.tfrecord.gz -> exports\\train_eaton_sample_012.tfrecord.gz\n",
            "Downloading eaton/train_eaton_sample_013.tfrecord.gz -> exports\\train_eaton_sample_013.tfrecord.gz\n",
            "Downloading eaton/train_eaton_sample_014.tfrecord.gz -> exports\\train_eaton_sample_014.tfrecord.gz\n",
            "Downloading eaton/train_eaton_sample_015.tfrecord.gz -> exports\\train_eaton_sample_015.tfrecord.gz\n",
            "Downloading eaton/train_eaton_sample_016.tfrecord.gz -> exports\\train_eaton_sample_016.tfrecord.gz\n",
            "Downloading eaton/train_eaton_sample_017.tfrecord.gz -> exports\\train_eaton_sample_017.tfrecord.gz\n",
            "Downloading eaton/train_eaton_sample_018.tfrecord.gz -> exports\\train_eaton_sample_018.tfrecord.gz\n",
            "Downloading eaton/train_eaton_sample_019.tfrecord.gz -> exports\\train_eaton_sample_019.tfrecord.gz\n"
          ]
        }
      ],
      "source": [
        "download_exports(params, Path(\"exports\"))"
      ]
    }
  ],
  "metadata": {
    "colab": {
      "name": "kaggle_next_day_wildfire_demo.ipynb",
      "private_outputs": true,
      "provenance": [
        {
          "file_id": "1l6l66eew8rD1LcR1nx7seYhXt194U905",
          "timestamp": 1639619194522
        }
      ]
    },
    "kernelspec": {
      "display_name": "xai-fire",
      "language": "python",
      "name": "python3"
    },
    "language_info": {
      "codemirror_mode": {
        "name": "ipython",
        "version": 3
      },
      "file_extension": ".py",
      "mimetype": "text/x-python",
      "name": "python",
      "nbconvert_exporter": "python",
      "pygments_lexer": "ipython3",
      "version": "3.10.18"
    }
  },
  "nbformat": 4,
  "nbformat_minor": 0
}
