{
  "cells": [
    {
      "cell_type": "markdown",
      "metadata": {},
      "source": [
        "This notebook authenticates EE, configures a small region/time window, triggers TFRecord exports using data_export.export_ee_data, and shows how to monitor and optionally download results."
      ]
    },
    {
      "cell_type": "code",
      "execution_count": 4,
      "metadata": {},
      "outputs": [],
      "source": [
        "import json\n",
        "from datetime import datetime\n",
        "from pathlib import Path    \n",
        "\n",
        "import ee\n",
        "# Optional for downloading TFRecords later:\n",
        "# from google.cloud import storage\n",
        "\n",
        "from data_export import export_ee_data, ee_utils"
      ]
    },
    {
      "cell_type": "code",
      "execution_count": 5,
      "metadata": {},
      "outputs": [],
      "source": [
        "try:\n",
        "    ee.Authenticate()\n",
        "except Exception as exc:\n",
        "    print(\"Auth skipped or already configured:\", exc)"
      ]
    },
    {
      "cell_type": "code",
      "execution_count": 6,
      "metadata": {},
      "outputs": [
        {
          "name": "stdout",
          "output_type": "stream",
          "text": [
            "Earth Engine initialized 2025-10-15 20:47:01.042878\n"
          ]
        }
      ],
      "source": [
        "ee.Initialize()\n",
        "print(\"Earth Engine initialized\", datetime.utcnow())"
      ]
    },
    {
      "cell_type": "code",
      "execution_count": 5,
      "metadata": {},
      "outputs": [
        {
          "name": "stdout",
          "output_type": "stream",
          "text": [
            "{\n",
            "  \"bucket\": \"lmudl-wildfire-compilation-bucket\",\n",
            "  \"folder\": \"demo\",\n",
            "  \"prefix\": \"sample\",\n",
            "  \"start_date\": \"2021-08-01\",\n",
            "  \"end_date\": \"2021-08-15\",\n",
            "  \"kernel_size\": 64,\n",
            "  \"sampling_scale\": 1000,\n",
            "  \"eval_split_ratio\": 0.05,\n",
            "  \"num_samples_per_file\": 100,\n",
            "  \"region_bbox\": [\n",
            "    -122.6,\n",
            "    39.5,\n",
            "    -120.9,\n",
            "    41.0\n",
            "  ]\n",
            "}\n"
          ]
        }
      ],
      "source": [
        "params = {\n",
        "    \"bucket\": \"lmudl-wildfire-compilation-bucket\",     # e.g., \"my-bucket\"\n",
        "    \"folder\": \"demo\",                 # subfolder inside bucket\n",
        "    \"prefix\": \"sample\",               # file prefix\n",
        "    \"start_date\": \"2021-08-01\",\n",
        "    \"end_date\": \"2021-08-15\",\n",
        "    \"kernel_size\": 64,\n",
        "    \"sampling_scale\": 1000,\n",
        "    \"eval_split_ratio\": 0.05,\n",
        "    \"num_samples_per_file\": 100,\n",
        "    # [west, south, east, north] in degrees; pick a small test area\n",
        "    \"region_bbox\": [-122.6, 39.5, -120.9, 41.0],\n",
        "}\n",
        "print(json.dumps(params, indent=2))"
      ]
    },
    {
      "cell_type": "code",
      "execution_count": 8,
      "metadata": {},
      "outputs": [],
      "source": [
        "def export_slice(config: dict):\n",
        "    required = [\"bucket\", \"folder\", \"prefix\", \"start_date\", \"end_date\"]\n",
        "    for key in required:\n",
        "        if not config.get(key):\n",
        "            raise ValueError(f\"Missing required parameter: {key}\")\n",
        "\n",
        "    bbox = config.get(\"region_bbox\") or ee_utils.COORDINATES[\"US\"]\n",
        "    # Override the default region used by export_ee_data\n",
        "    ee_utils.COORDINATES[\"US\"] = bbox\n",
        "\n",
        "    start_date = ee.Date(config[\"start_date\"])\n",
        "    end_date = ee.Date(config[\"end_date\"])\n",
        "\n",
        "    export_ee_data.export_ml_datasets(\n",
        "        bucket=config[\"bucket\"],\n",
        "        folder=config[\"folder\"],\n",
        "        start_date=start_date,\n",
        "        end_date=end_date,\n",
        "        prefix=config.get(\"prefix\", \"\"),\n",
        "        kernel_size=config.get(\"kernel_size\", ee_utils.DEFAULT_KERNEL_SIZE),\n",
        "        sampling_scale=config.get(\"sampling_scale\", ee_utils.DEFAULT_SAMPLING_RESOLUTION),\n",
        "        eval_split_ratio=config.get(\"eval_split_ratio\", ee_utils.DEFAULT_EVAL_SPLIT),\n",
        "        num_samples_per_file=config.get(\"num_samples_per_file\", ee_utils.DEFAULT_LIMIT_PER_EE_CALL),\n",
        "    )\n",
        "    print(\"Export triggered. Check https://code.earthengine.google.com/tasks for progress.\")"
      ]
    },
    {
      "cell_type": "code",
      "execution_count": 16,
      "metadata": {},
      "outputs": [
        {
          "name": "stdout",
          "output_type": "stream",
          "text": [
            "Export triggered. Check https://code.earthengine.google.com/tasks for progress.\n"
          ]
        }
      ],
      "source": [
        "export_slice(params)"
      ]
    },
    {
      "cell_type": "code",
      "execution_count": 9,
      "metadata": {},
      "outputs": [
        {
          "name": "stdout",
          "output_type": "stream",
          "text": [
            "VTHHN6IPP7E3JIE2UBLEDVY5 | COMPLETED | train_sample_003\n",
            "Z5FQYZFU665XXABD7I6C35I3 | COMPLETED | train_sample_002\n",
            "ZTWSXCT4VBBNUVIQHLAJ5EL5 | COMPLETED | train_sample_001\n",
            "3H5U6E4QUKINSRNHIJ5RR77X | COMPLETED | train_sample_000\n",
            "H4ZIUA2QMJGJ7JLWEGBQZKW3 | FAILED | train_sample_003\n",
            "EB6K56WJSZEQAROXYXF2X4GQ | FAILED | train_sample_002\n",
            "EZDG3AJOFPQDK7K5GRN6OHF6 | FAILED | train_sample_001\n",
            "XML27USWHV6BVOLN7QFQFS5W | FAILED | train_sample_000\n"
          ]
        }
      ],
      "source": [
        "def list_tasks(limit: int = 10):\n",
        "    tasks = ee.batch.Task.list()\n",
        "    for task in tasks[:limit]:\n",
        "        status = task.status()\n",
        "        print(f\"{status['id']} | {status.get('state')} | {status.get('description')}\")\n",
        "\n",
        "list_tasks()"
      ]
    },
    {
      "cell_type": "code",
      "execution_count": 6,
      "metadata": {},
      "outputs": [],
      "source": [
        "from google.cloud import storage\n",
        "\n",
        "def download_exports(config: dict, destination: Path):\n",
        "    destination.mkdir(parents=True, exist_ok=True)\n",
        "    client = storage.Client()\n",
        "    bucket = client.bucket(config[\"bucket\"])\n",
        "\n",
        "    folder = str(config.get(\"folder\", \"\")).strip(\"/\")\n",
        "    gcs_prefix = (folder + \"/\") if folder else \"\"\n",
        "\n",
        "    blobs = list(bucket.list_blobs(prefix=gcs_prefix))\n",
        "\n",
        "    print(f\"Found {len(blobs)} files under gs://{config['bucket']}/{gcs_prefix}\")\n",
        "    for blob in blobs:\n",
        "        target = destination / Path(blob.name).name\n",
        "        print(\"Downloading\", blob.name, \"->\", target)\n",
        "        blob.download_to_filename(target)\n"
      ]
    },
    {
      "cell_type": "code",
      "execution_count": 2,
      "metadata": {},
      "outputs": [
        {
          "data": {
            "text/plain": [
              "['Your browser has been opened to visit:',\n",
              " '',\n",
              " '    https://accounts.google.com/o/oauth2/auth?response_type=code&client_id=764086051850-6qr4p6gpi6hn506pt8ejuq83di341hur.apps.googleusercontent.com&redirect_uri=http%3A%2F%2Flocalhost%3A8085%2F&scope=openid+https%3A%2F%2Fwww.googleapis.com%2Fauth%2Fuserinfo.email+https%3A%2F%2Fwww.googleapis.com%2Fauth%2Fcloud-platform+https%3A%2F%2Fwww.googleapis.com%2Fauth%2Fsqlservice.login&state=JKprEZxjyuZ6hSM2SkyZGeOIjk2WZi&access_type=offline&code_challenge=CENTozSPNRzN_vpLT4yni3oxZeWtNYYHFkDdSaR65wY&code_challenge_method=S256',\n",
              " '',\n",
              " '',\n",
              " 'Credentials saved to file: [C:\\\\Users\\\\Arye\\\\AppData\\\\Roaming\\\\gcloud\\\\application_default_credentials.json]',\n",
              " '',\n",
              " 'These credentials will be used by any library that requests Application Default Credentials (ADC).',\n",
              " '',\n",
              " 'Quota project \"ee-lmu-deep-learning-wildfire\" was added to ADC which can be used by Google client libraries for billing and quota. Note that some services may still bill the project owning the resource.']"
            ]
          },
          "execution_count": 2,
          "metadata": {},
          "output_type": "execute_result"
        }
      ],
      "source": [
        "%%!\n",
        "gcloud auth application-default login"
      ]
    },
    {
      "cell_type": "code",
      "execution_count": 7,
      "metadata": {},
      "outputs": [
        {
          "name": "stdout",
          "output_type": "stream",
          "text": [
            "Found 5 files under gs://lmudl-wildfire-compilation-bucket/demo/\n",
            "Downloading demo/ -> exports\\demo\n",
            "Downloading demo/train_sample_000.tfrecord.gz -> exports\\train_sample_000.tfrecord.gz\n",
            "Downloading demo/train_sample_001.tfrecord.gz -> exports\\train_sample_001.tfrecord.gz\n",
            "Downloading demo/train_sample_002.tfrecord.gz -> exports\\train_sample_002.tfrecord.gz\n",
            "Downloading demo/train_sample_003.tfrecord.gz -> exports\\train_sample_003.tfrecord.gz\n"
          ]
        }
      ],
      "source": [
        "download_exports(params, Path(\"exports\"))"
      ]
    },
    {
      "cell_type": "code",
      "execution_count": 2,
      "metadata": {},
      "outputs": [
        {
          "name": "stdout",
          "output_type": "stream",
          "text": [
            "name='demo/' size=0 md5=1B2M2Y8AsgTpgAmY7PhCfg==\n",
            "name='train_sample_000.tfrecord.gz' size=15649033 md5=CDc/X9WFlOIt0/M9scPfig==\n",
            "name='train_sample_001.tfrecord.gz' size=13871148 md5=moDi0cAuGOVP7gGIwQrEZw==\n",
            "name='train_sample_002.tfrecord.gz' size=13948147 md5=gSGdb5exWysYf2lqe32h/w==\n",
            "name='train_sample_003.tfrecord.gz' size=7093742 md5=2kok452ri5DJBX2pXL1ogw==\n"
          ]
        }
      ],
      "source": [
        "from google.cloud import storage\n",
        "client = storage.Client()\n",
        "bucket = client.bucket(\"lmudl-wildfire-compilation-bucket\")\n",
        "\n",
        "\n",
        "for blob in bucket.list_blobs(prefix=\"\"):  # note trailing '/'\n",
        "    print(f\"name={blob.name!r} size={blob.size} md5={blob.md5_hash}\")"
      ]
    }
  ],
  "metadata": {
    "colab": {
      "name": "kaggle_next_day_wildfire_demo.ipynb",
      "private_outputs": true,
      "provenance": [
        {
          "file_id": "1l6l66eew8rD1LcR1nx7seYhXt194U905",
          "timestamp": 1639619194522
        }
      ]
    },
    "kernelspec": {
      "display_name": "xai-fire",
      "language": "python",
      "name": "python3"
    },
    "language_info": {
      "codemirror_mode": {
        "name": "ipython",
        "version": 3
      },
      "file_extension": ".py",
      "mimetype": "text/x-python",
      "name": "python",
      "nbconvert_exporter": "python",
      "pygments_lexer": "ipython3",
      "version": "3.10.18"
    }
  },
  "nbformat": 4,
  "nbformat_minor": 0
}
